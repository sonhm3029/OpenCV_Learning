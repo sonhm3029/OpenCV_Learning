{
 "cells": [
  {
   "cell_type": "markdown",
   "metadata": {},
   "source": [
    "# Làm việc với videos"
   ]
  },
  {
   "cell_type": "markdown",
   "metadata": {},
   "source": []
  },
  {
   "cell_type": "code",
   "execution_count": 39,
   "metadata": {},
   "outputs": [],
   "source": [
    "import cv2 \n"
   ]
  },
  {
   "cell_type": "markdown",
   "metadata": {},
   "source": [
    "## 1. Reading videos\n",
    "\n",
    "### a) From a file\n",
    "\n",
    "Để đọc video vào từ file thì ta tạo `VideoCapture(path, apiPreference)` Object\n",
    "\n",
    "- `path` là đường dẫn đến file video\n",
    "- `apiPreference`: Đọc tại [VideoCaptureAPIs](https://docs.opencv.org/4.x/d4/d15/group__videoio__flags__base.html)"
   ]
  },
  {
   "cell_type": "code",
   "execution_count": 40,
   "metadata": {},
   "outputs": [],
   "source": [
    "vid_capture = cv2.VideoCapture('../assets/videos/sample_vid.mp4')"
   ]
  },
  {
   "cell_type": "markdown",
   "metadata": {},
   "source": [
    "Sau khi đã đọc vào, để kiểm tra xem file video có mở thành công không ta có `.isOpened()`\n",
    "\n",
    "Hàm `.get(enum)` nhận vào `cv2.enum` để lấy ra các giá trị tương ứng. Xem [tại đây ](https://docs.opencv.org/4.x/d4/d15/group__videoio__flags__base.html#gaeb8dd9c89c10a5c63c139bf7c4f5704d)"
   ]
  },
  {
   "cell_type": "code",
   "execution_count": 41,
   "metadata": {},
   "outputs": [
    {
     "name": "stdout",
     "output_type": "stream",
     "text": [
      "Frame rate: 25 frames per second\n",
      "Frame count: 1013.0\n"
     ]
    }
   ],
   "source": [
    "if (vid_capture.isOpened() == False):\n",
    "    print(\"Error opening theo video file\")\n",
    "else:\n",
    "    # Get frame rate information\n",
    "    fps = int(vid_capture.get(cv2.CAP_PROP_FPS))\n",
    "    print(f\"Frame rate: {fps} frames per second\")\n",
    "    \n",
    "    # Get frame count\n",
    "    frame_count = vid_capture.get(cv2.CAP_PROP_FRAME_COUNT)\n",
    "    print(f\"Frame count: {frame_count}\")"
   ]
  },
  {
   "cell_type": "markdown",
   "metadata": {},
   "source": [
    "Sau khi có được các metadata của video như trên ,ta có thể tiến hành đọc từng frame của video bằng `vid_capture.read()`.\n",
    "\n",
    "`.read()` trả về tuple gồm 2 giá trị `ret và frame`.\n",
    "\n",
    "- `ret` là boolean chỉ ra `frame` có phải là frame để đọc ra hay không.\n",
    "\n",
    "Sử dụng `waitKey` để pause giữa các frame và nếu ng dùng có press `q` thì sẽ tắt trình chiếu."
   ]
  },
  {
   "cell_type": "code",
   "execution_count": 42,
   "metadata": {},
   "outputs": [],
   "source": [
    "# while (vid_capture.isOpened()):\n",
    "#     ret, frame = vid_capture.read()\n",
    "#     if ret == True:\n",
    "#         cv2.imshow('Frame', frame)\n",
    "#         # ghi ra anh de su dung cho vi du imaage sequence\n",
    "#         k = cv2.waitKey(20)\n",
    "#         if k == 113: #113 là ascii cua `q`\n",
    "#             break\n",
    "#     else:\n",
    "#         cv2.destroyAllWindows()\n",
    "#         break"
   ]
  },
  {
   "cell_type": "markdown",
   "metadata": {},
   "source": [
    "### b) From image-sequence"
   ]
  },
  {
   "cell_type": "code",
   "execution_count": 43,
   "metadata": {},
   "outputs": [],
   "source": [
    "# count = 0\n",
    "# while (vid_capture.isOpened()):\n",
    "#     ret, frame = vid_capture.read()\n",
    "#     if ret == True:\n",
    "#         count +=1\n",
    "#         # ghi ra anh de su dung cho vi du imaage sequence\n",
    "#         cv2.imwrite(f'../assets/images/img_sequence{count}.jpg', frame)\n",
    "#         k = cv2.waitKey(20)\n",
    "#     else:\n",
    "#         cv2.destroyAllWindows()\n",
    "#         break"
   ]
  },
  {
   "cell_type": "markdown",
   "metadata": {},
   "source": [
    "Để show image sequence thì ta làm tương tự như với video, tuy nhiên với đường dẫn ví dụ như dưới đây `(img_sequence%02d.jpg)` thì `%02d` biểu thị cho việc đọc vào các images bắt đầu là `img_sequence` + 2 digits là `Cars01.jpg, Cars02.jpg....`"
   ]
  },
  {
   "cell_type": "code",
   "execution_count": 44,
   "metadata": {},
   "outputs": [],
   "source": [
    "# vid_capture = cv2.VideoCapture('../assets/images/img_sequence%02d.jpg')\n",
    "\n",
    "# frame_rate = vid_capture.get(cv2.CAP_PROP_FPS)\n",
    "# frame_count = vid_capture.get(cv2.CAP_PROP_FRAME_COUNT)\n",
    "\n",
    "# print(f\"frame rate: {frame_rate}\")\n",
    "# print(f\"frame count: {frame_count}\")"
   ]
  },
  {
   "cell_type": "markdown",
   "metadata": {},
   "source": [
    "### c) From a webcam\n"
   ]
  },
  {
   "cell_type": "markdown",
   "metadata": {},
   "source": [
    "Tương tự như đọc video các ví dụ trên nhưng đầu vào của `VideoCapture(cam_index, cv2.CAP_DSHOW)`\n",
    "\n",
    "trong đó `cam_index` là index của thiết bị ghi hình"
   ]
  },
  {
   "cell_type": "code",
   "execution_count": 45,
   "metadata": {},
   "outputs": [],
   "source": [
    "# vid_capture = cv2.VideoCapture(0, cv2.CAP_DSHOW)"
   ]
  },
  {
   "cell_type": "markdown",
   "metadata": {},
   "source": [
    "## 2) Writing Video"
   ]
  },
  {
   "cell_type": "markdown",
   "metadata": {},
   "source": [
    "Chúng ta có thể ghi video ra file từ video file, image sequence hoặc webcam. Các bước thực hiện:\n",
    "\n",
    "- Lấy ra frame height và width sử dụng `get()`\n",
    "- tạo videocapture object để đọc video stream \n",
    "- tạo video writer object\n",
    "- dùng video writer để lưu video stream \n",
    "\n"
   ]
  },
  {
   "cell_type": "markdown",
   "metadata": {},
   "source": [
    "### Lấy ra frame height, width"
   ]
  },
  {
   "cell_type": "code",
   "execution_count": 46,
   "metadata": {},
   "outputs": [],
   "source": [
    "frame_width = int(vid_capture.get(cv2.CAP_PROP_FRAME_WIDTH))\n",
    "frame_height = int(vid_capture.get(cv2.CAP_PROP_FRAME_HEIGHT))\n",
    "frame_size = (frame_width, frame_height)\n",
    "fps = 20"
   ]
  },
  {
   "cell_type": "markdown",
   "metadata": {},
   "source": [
    "### VIdeo writer Object\n",
    "\n",
    "`VideoWriter(filename, apiPrefernce, fourcc, fps, frameSize[, isColor])`\n",
    "\n",
    "- `filename`: path name của output file\n",
    "- `apiPreference`: API backends identifier\n",
    "- `fourcc`: 4 code of codec, sử dụng để nén frames\n",
    "- `frameSize`: size của video frames\n",
    "- `isColor`: nếu không mang giá trị là `0` thì cần giá trị encode color frames. Mặc định là sẽ cho ra ảnh xám\n",
    "\n",
    "Đọc thêm [tại đây](https://docs.opencv.org/4.5.2/dd/d9e/classcv_1_1VideoWriter.html#ad59c61d8881ba2b2da22cff5487465b5)\n",
    "\n",
    "Video `codec` chỉ ra dạng video đầu ra:\n",
    "\n",
    "- AVI: `cv2.VideoWriter_fourcc('M', 'J', 'P', 'G')`\n",
    "- MP4: `cv2.VideoWriter_fourcc(*'XVID')`\n",
    "\n"
   ]
  },
  {
   "cell_type": "code",
   "execution_count": 47,
   "metadata": {},
   "outputs": [],
   "source": [
    "# Initialize video writer object\n",
    "output = cv2.VideoWriter('../assets/videos/output_video_from_file.avi',\n",
    "                                cv2.VideoWriter_fourcc('M', 'J', 'P', 'G'),\n",
    "                                fps,\n",
    "                                frame_size)"
   ]
  },
  {
   "cell_type": "markdown",
   "metadata": {},
   "source": [
    "Tiếp theo là write video to disk"
   ]
  },
  {
   "cell_type": "code",
   "execution_count": 48,
   "metadata": {},
   "outputs": [
    {
     "name": "stdout",
     "output_type": "stream",
     "text": [
      "Stream disconnected\n"
     ]
    }
   ],
   "source": [
    "while(vid_capture.isOpened()):\n",
    "    ret, frame = vid_capture.read()\n",
    "    if ret == True:\n",
    "        output.write(frame)\n",
    "    else:\n",
    "        print('Stream disconnected')\n",
    "        break"
   ]
  },
  {
   "cell_type": "code",
   "execution_count": null,
   "metadata": {},
   "outputs": [],
   "source": [
    "vid_capture.release();\n",
    "output.release();\n"
   ]
  }
 ],
 "metadata": {
  "kernelspec": {
   "display_name": "Python 3.9.6 64-bit",
   "language": "python",
   "name": "python3"
  },
  "language_info": {
   "codemirror_mode": {
    "name": "ipython",
    "version": 3
   },
   "file_extension": ".py",
   "mimetype": "text/x-python",
   "name": "python",
   "nbconvert_exporter": "python",
   "pygments_lexer": "ipython3",
   "version": "3.9.6"
  },
  "orig_nbformat": 4,
  "vscode": {
   "interpreter": {
    "hash": "c2fce2166ecf35e10e9706810c05663b0d742ad8d6d30f48ef9e954a1f466467"
   }
  }
 },
 "nbformat": 4,
 "nbformat_minor": 2
}

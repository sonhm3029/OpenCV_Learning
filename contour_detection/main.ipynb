{
 "cells": [
  {
   "cell_type": "markdown",
   "metadata": {},
   "source": [
    "# Contour Detection using OpenCV"
   ]
  },
  {
   "cell_type": "markdown",
   "metadata": {},
   "source": [
    "## 1. What are contours\n",
    "\n",
    "Contour là đường bao quanh vật thể. Sử dụng 2 function để tìm và vẽ contour trên vật thể là:\n",
    "\n",
    "* `findCountours()`\n",
    "* `drawContours()`\n",
    "\n",
    "Và ta cũng có 2 algorithm cho contour detection là:\n",
    "\n",
    "* `CHAIN_APPROX_SIMPLE`\n",
    "* `CHAIN_APPROX_NONE`"
   ]
  },
  {
   "cell_type": "markdown",
   "metadata": {},
   "source": [
    "## 2. Steps for finding and drawing contours using OpenCV\n",
    "\n",
    "Các bước để tìm và vẽ contours là:\n",
    "\n",
    "### Bước 1: Đọc ảnh vào và convert thành ảnh xám\n",
    "\n",
    "Convert ảnh đầu vào thành ảnh xám để cho ma trận ảnh chỉ là single channel với các giá trị nằm trong khoảng 0-255, từ đó ta có thể apply threshold lên \n",
    "\n",
    "### Bước 2: Apply Binary Thresholding\n",
    "\n",
    "Dùng threshold để làm nổi bật lên biên ảnh với giá trị là (255) từ đó có thể sử dụng hàm của openCV để xác định contours\n",
    "\n",
    "### Bước 3: Find the Contours\n",
    "\n",
    "Sử dụng hàm `findContours()` để detection contours \n",
    "\n",
    "### Bước 4: Vẽ Contours vào ảnh RGB ban đầu\n",
    "\n",
    "Sử dụng hàm `drawContours()` để vẽ contours"
   ]
  },
  {
   "cell_type": "code",
   "execution_count": 2,
   "metadata": {},
   "outputs": [
    {
     "data": {
      "text/plain": [
       "-1"
      ]
     },
     "execution_count": 2,
     "metadata": {},
     "output_type": "execute_result"
    }
   ],
   "source": [
    "import cv2\n",
    "import matplotlib.pyplot as plt\n",
    "import numpy as np\n",
    "\n",
    "%matplotlib inline\n",
    "\n",
    "# read in original image\n",
    "image = cv2.imread('../assets/images/cars.jpg')\n",
    "\n",
    "# convert to Grayscale\n",
    "img_gray = cv2.cvtColor(image, cv2.COLOR_BGR2GRAY)\n",
    "img_gray = cv2.GaussianBlur(img_gray, ksize=(5, 5), sigmaX=0, sigmaY=0)\n",
    "\n",
    "# show image\n",
    "cv2.imshow('Original Image',image)\n",
    "cv2.imshow('Gray scale image', img_gray)\n",
    "cv2.waitKey(0)"
   ]
  },
  {
   "cell_type": "markdown",
   "metadata": {},
   "source": [
    "## 3. Finding and drawing contours using OpenCV"
   ]
  },
  {
   "cell_type": "markdown",
   "metadata": {},
   "source": [
    "Using `threshold()` để apply binary threshold cho ảnh. Tất cẩ các pixel có giá trị lớn hơn 150 được set thành 255 (trắng). Các pixel còn lại sẽ được set thành giá trị 0 (đen). Lưu ý giá trị threshold có thể điều chỉnh sao cho phù hợp."
   ]
  },
  {
   "cell_type": "code",
   "execution_count": 3,
   "metadata": {},
   "outputs": [
    {
     "data": {
      "text/plain": [
       "-1"
      ]
     },
     "execution_count": 3,
     "metadata": {},
     "output_type": "execute_result"
    }
   ],
   "source": [
    "# define tunning threshold\n",
    "threshold = 60\n",
    "maxThres = 255\n",
    "\n",
    "ret, thresh = cv2.threshold(img_gray,thresh=threshold,maxval=maxThres,type=cv2.THRESH_BINARY_INV)\n",
    "\n",
    "# Visualize\n",
    "cv2.imshow(\"Gray image\", img_gray)\n",
    "cv2.imshow(\"Thresh image\", thresh)\n",
    "cv2.waitKey(0)"
   ]
  },
  {
   "cell_type": "markdown",
   "metadata": {},
   "source": [
    "### Drawing contours using `CHAIN_APPROX_NONE`\n",
    "\n",
    "hàm `findContours()` function. Hàm này nhận vào 3 arguments\n",
    "\n",
    "- `image`: ảnh binary thresh hold đầu vào\n",
    "- `mode`: contour-retrieval mode. chúng ta sử dụng `RETR_TREE`, tức là algorithm sẽ lấy ra tất cả các countour có thể có từ binary image. Có nhiều contours `retreive mode` có thể xem [tại đây](https://docs.opencv.org/4.x/d3/dc0/group__imgproc__shape.html#ga819779b9857cc2f8601e6526a3a5bc71)\n",
    "- `method`: define contour-approximation method. Trong ví dụ dưới ta sẽ dùng `CHAIN_APPROX_NONE`. Mặc dù chậm hơn so với `CHAIN_APPROX_SIMPLE` chúng ta sử dụng `CHAIN_APPROX_NONE` để lưu tất cả contour points.\n",
    "\n",
    "hàm `drawContours()` dùng để vẽ contours lên RGB image. Hàm này nhận vào 4 tham số bắt buộc và nhiều tham số khác. Với các optional parameters xem [tại đây](https://docs.opencv.org/4.x/d6/d6e/group__imgproc__draw.html#ga746c0625f1781f1ffc9056259103edbc):\n",
    "\n",
    "- `image`: Image đầu vào muốn vẽ contours\n",
    "- `contours`: contours tìm được từ hàm `findContours`\n",
    "- `contourIdx`: The pixel coordinates of the contour points are listed in the obtained contours. Using this argument, you can specify the index position from this list, indicating exactly which contour point you want to draw. Providing a negative value will draw all the contour points.\n",
    "- `color`: màu của contours muốn vẽ\n",
    "- `thickness`: độ dày của contours\n",
    "\n"
   ]
  },
  {
   "cell_type": "code",
   "execution_count": 4,
   "metadata": {},
   "outputs": [
    {
     "data": {
      "text/plain": [
       "-1"
      ]
     },
     "execution_count": 4,
     "metadata": {},
     "output_type": "execute_result"
    }
   ],
   "source": [
    "# detect contour\n",
    "contours, hierachy = cv2.findContours(image=thresh, mode=cv2.RETR_TREE,\n",
    "                                     method=cv2.CHAIN_APPROX_NONE)\n",
    "\n",
    "# draw contours on the original image\n",
    "image_copy = image.copy()\n",
    "cv2.drawContours(image=image_copy, contours=contours,\n",
    "                 contourIdx=-1, color=(0, 255, 0), thickness=2, lineType=cv2.LINE_AA)\n",
    "\n",
    "\n",
    "# visualize\n",
    "cv2.imshow(\"Contours image\", image_copy)\n",
    "cv2.waitKey(0)"
   ]
  },
  {
   "cell_type": "markdown",
   "metadata": {},
   "source": [
    "### Drawing contours on separate channel\n",
    "\n",
    "Sử dụng `cv2.split()` để chia 3 channel ảnh R, G, B ra"
   ]
  },
  {
   "cell_type": "code",
   "execution_count": 5,
   "metadata": {},
   "outputs": [],
   "source": [
    "blue, green, red = cv2.split(image)\n",
    "\n",
    "# Các bước tiếp teo theo làm tương tự như detect bình thường"
   ]
  },
  {
   "cell_type": "markdown",
   "metadata": {},
   "source": [
    "### Drawing contours using `CHAIN_APPROX_SIMPLE`\n",
    "\n",
    "Khác với `CHAIN_APPROX_NONE` là store lại tất cả các điểm của contours thì `CHAIN_APPROX_SIMPLE` chỉ store lại các điểm đầu cuối của các đường contours. Ví dụ với hình như nhật thì chỉ store lại 4 điểm góc của hình thôi.\n",
    "\n",
    "Tuy nhiên khi dùng `drawContours()` thì `CHAIN_APPROX_SIMPLE` vẫn cho ra kết quả giống với `CHAIN_APPROX_NONE` lý do là vì `drawContours()` tự kết nối các điểm góc với nhau."
   ]
  },
  {
   "cell_type": "code",
   "execution_count": 6,
   "metadata": {},
   "outputs": [
    {
     "data": {
      "text/plain": [
       "-1"
      ]
     },
     "execution_count": 6,
     "metadata": {},
     "output_type": "execute_result"
    }
   ],
   "source": [
    "contours1, hierachy1 = cv2.findContours(image=thresh, mode=cv2.RETR_TREE,\n",
    "                                        method=cv2.CHAIN_APPROX_SIMPLE)\n",
    "# draw contours\n",
    "image_copy1 = image.copy()\n",
    "cv2.drawContours(image_copy1,contours1,-1, (0, 255, 0),2, cv2.LINE_AA)\n",
    "\n",
    "cv2.imshow(\"contours with chain_approx_simple\", image_copy1)\n",
    "cv2.waitKey(0)"
   ]
  },
  {
   "cell_type": "markdown",
   "metadata": {},
   "source": [
    "#### Ví dụ cho thấy răng drawContours tự động kết nối các điểm góc, ví dụ dưới đây sẽ chỉ vẽ lên các contours point bằng vòng for loop"
   ]
  },
  {
   "cell_type": "code",
   "execution_count": 9,
   "metadata": {},
   "outputs": [
    {
     "data": {
      "text/plain": [
       "-1"
      ]
     },
     "execution_count": 9,
     "metadata": {},
     "output_type": "execute_result"
    }
   ],
   "source": [
    "# example with draw contour points\n",
    "src = cv2.imread(\"../assets/images/example_img_3.jpg\", 0)\n",
    "\n",
    "# threshold image\n",
    "threshold = 150\n",
    "maxVal = 255\n",
    "\n",
    "ret, thresh_img = cv2.threshold(src,threshold,maxVal,cv2.THRESH_BINARY)\n",
    "\n",
    "# Visualize\n",
    "cv2.imshow(\"Original image\", src)\n",
    "cv2.imshow(\"Thresh binary image\", thresh_img)\n",
    "cv2.waitKey(0)\n",
    "\n",
    "# Find contours\n",
    "contours, hierachy = cv2.findContours(thresh_img, cv2.RETR_TREE, cv2.CHAIN_APPROX_SIMPLE)\n",
    "\n",
    "# Loop to draw cirle for contour points\n",
    "copy_img = src.copy()\n",
    "for (i, contourList) in enumerate(contours):\n",
    "    for(j, contourPoint) in enumerate(contourList):\n",
    "        cv2.circle(copy_img, (contourPoint[0][0], contourPoint[0][1]), 2, (0, 255, 0), 2, cv2.LINE_AA)\n",
    "        \n",
    "\n",
    "# Show image\n",
    "cv2.imshow(\"Contour point img\", copy_img)\n",
    "cv2.waitKey(0)"
   ]
  },
  {
   "cell_type": "markdown",
   "metadata": {},
   "source": [
    "## 4. Contour hierarchies\n",
    "\n",
    "Phần return từ hàm `findContours()` gồm 2 outputs. Một là `contours` là list các contours find được và thứ hai là `hierachy`.\n",
    "\n",
    "`hierachy` có dạng array như sau:\n",
    "\n",
    "`[Next, Previous, First_child, Parent]`\n",
    "\n",
    "Xem ảnh dưới đây ta có:\n",
    "\n",
    "![](../assets/images/contour_1.png)\n",
    "\n",
    "với ảnh trên ta có `hierachy`:\n",
    "\n",
    "- `Next`: \n",
    "\n",
    "* Đối với contour 1, next contour ở cùng level là 2 => `Next` = 2\n",
    "* contour 3 không có contour nào ở cùng level => `Next` = -1\n",
    "\n",
    "- `Previous`:\n",
    "\n",
    "* mô tả contour năm trước một contour ở cùng `hierachical` level => `Previous` của contour 1 và 3 là -1 và của contour 2 là 1.\n",
    "\n",
    "- `First_Child`:\n",
    "* Contours 1 và 2 không có children => `First_Child` = -1\n",
    "* Contour 3 có child => `First_Child` của nó là index position của `3a`\n",
    "\n",
    "- `Parent`:\n",
    "* Contours 1 và 2 không có Parent\n",
    "* Contour 3a có `Parent` là contour 3\n",
    "* Contour 4 có `Parent` là contour 3a\n",
    "\n"
   ]
  },
  {
   "cell_type": "markdown",
   "metadata": {},
   "source": [
    "## 5. Different Contour Retrieval Techniques\n",
    "\n",
    "- `RETR_LIST`\n",
    "- `RETR_EXTERNAL`\n",
    "- `RETR_CCOMP`\n",
    "- `RETR_TREE`\n",
    "\n"
   ]
  }
 ],
 "metadata": {
  "kernelspec": {
   "display_name": "Python 3.9.6 64-bit",
   "language": "python",
   "name": "python3"
  },
  "language_info": {
   "codemirror_mode": {
    "name": "ipython",
    "version": 3
   },
   "file_extension": ".py",
   "mimetype": "text/x-python",
   "name": "python",
   "nbconvert_exporter": "python",
   "pygments_lexer": "ipython3",
   "version": "3.9.6"
  },
  "orig_nbformat": 4,
  "vscode": {
   "interpreter": {
    "hash": "c2fce2166ecf35e10e9706810c05663b0d742ad8d6d30f48ef9e954a1f466467"
   }
  }
 },
 "nbformat": 4,
 "nbformat_minor": 2
}

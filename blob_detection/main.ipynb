{
 "cells": [
  {
   "cell_type": "markdown",
   "metadata": {},
   "source": [
    "# Blob detection\n",
    "\n",
    "Theo [https://learnopencv.com/blob-detection-using-opencv-python-c/](https://learnopencv.com/blob-detection-using-opencv-python-c/)\n",
    "\n",
    "A Blob is a group of connected pixels in an image that share some common property ( E.g grayscale value ). In the image above, the dark connected regions are blobs, and the goal of blob detection is to identify and mark these regions.\n",
    "\n",
    "\n",
    "## How does Blob detection work\n",
    "\n",
    "1. `Thresholding`: Convert ảnh đầu vào thành several `binary images` bằng cách thresholding image đầu vào với thresholds bắt đầu từ `minThreshold`. Các threshold được tăng dần bởi `thresholdStep` cho đến `maxThreshold`\n",
    "2. `Grouping`: Với mỗi binary image, các white pixel connected với nhau sẽ được grouped lại. Đây gọi là `binary blobs`\n",
    "3. `Merging`: Điểm centers của `binary blobs` trong binary images được tính toán và các blob nằm gần hơn `minDistBetweenBlobs` sẽ được merged lại\n",
    "4. `Center & Radius Calculation`:  The centers and radii of the new merged blobs are computed and returned.\n",
    "\n",
    "## Filtering Blobs by Color, Size and Shape\n",
    "\n",
    "### 1. By color: \n",
    "\n",
    "Đầu tiên cần set `filterByColor = 1`, `blobColor=0` để select các darker blob, `blobColor=255` cho các lighter blob.\n",
    "\n",
    "### 2. By Size:\n",
    "\n",
    "Để filter blobs by size thì cần set `filterByArea=1` và giá trị phù hợp `minArea`, `maxArea`. Ví dụ set `minArea=100` sẽ lọc ra tất cả các blob < 100 pixels.\n",
    "\n",
    "### 3. Circularity\n",
    "\n",
    "Mesures một blob giống 1 vòng tròn bao nhiêu.\n",
    "\n",
    "Ví dụ: Một hình lục giác đều có higher circularity hơn 1 hình vuông.\n",
    "\n",
    "Để filter by circularity, set `filterByCircularity=1`, sau đó set giá trị thích hợp cho `minCircularity` và `maxCircularity`. Circularity được defined là:\n",
    "\n",
    "![](../assets/images/circularity_1.png).\n",
    "\n",
    "Từ công thức trên suy ra vòng tròn thì có circularity bằng 1 và hình vuông thì là 0.785...\n",
    "\n",
    "### 4. Convexity\n",
    "\n",
    "Convexity được định nghĩa là (Area of the Blob / Area of it's convex hull). Convex Hull of a shape is the tightest convex shape that completely encloses the shape.  To filter by convexity, set `filterByConvexity = 1`, followed by setting `0 ≤ minConvexity ≤ 1` and `maxConvexity ( ≤ 1) `\n",
    "\n",
    "### 5. Inertia Ratio:\n",
    "\n",
    "Don’t let this scare you. Mathematicians often use confusing words to describe something very simple. All you have to know is that this measures how elongated a shape is. E.g. for a circle, this value is 1, for an ellipse it is between 0 and 1, and for a line it is 0. To filter by inertia ratio, set `filterByInertia = 1`, and set 0 ≤ `minInertiaRatio` ≤ 1 and `maxInertiaRatio` (≤ 1 )appropriately."
   ]
  },
  {
   "cell_type": "code",
   "execution_count": 1,
   "metadata": {},
   "outputs": [],
   "source": [
    "import cv2\n",
    "\n",
    "# Setup SimpleBlobDetector parameters.\n",
    "params = cv2.SimpleBlobDetector_Params()\n",
    "\n",
    "# Change thresholds\n",
    "params.minThreshold = 10;\n",
    "params.maxThreshold = 200;\n",
    "\n",
    "# Filter by Area.\n",
    "params.filterByArea = True\n",
    "params.minArea = 1500\n",
    "\n",
    "# Filter by Circularity\n",
    "params.filterByCircularity = True\n",
    "params.minCircularity = 0.1\n",
    "\n",
    "# Filter by Convexity\n",
    "params.filterByConvexity = True\n",
    "params.minConvexity = 0.87\n",
    "\n",
    "# Filter by Inertia\n",
    "params.filterByInertia = True\n",
    "params.minInertiaRatio = 0.01\n",
    "\n",
    "# Create a detector with the parameters\n",
    "ver = (cv2.__version__).split('.')\n",
    "if int(ver[0]) < 3 :\n",
    "\tdetector = cv2.SimpleBlobDetector(params)\n",
    "else : \n",
    "\tdetector = cv2.SimpleBlobDetector_create(params)"
   ]
  },
  {
   "cell_type": "markdown",
   "metadata": {},
   "source": [
    "![](../assets/images/blob_1.png)"
   ]
  }
 ],
 "metadata": {
  "kernelspec": {
   "display_name": "Python 3.9.6 64-bit",
   "language": "python",
   "name": "python3"
  },
  "language_info": {
   "codemirror_mode": {
    "name": "ipython",
    "version": 3
   },
   "file_extension": ".py",
   "mimetype": "text/x-python",
   "name": "python",
   "nbconvert_exporter": "python",
   "pygments_lexer": "ipython3",
   "version": "3.9.6"
  },
  "orig_nbformat": 4,
  "vscode": {
   "interpreter": {
    "hash": "c2fce2166ecf35e10e9706810c05663b0d742ad8d6d30f48ef9e954a1f466467"
   }
  }
 },
 "nbformat": 4,
 "nbformat_minor": 2
}
